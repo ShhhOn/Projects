{
 "cells": [
  {
   "cell_type": "code",
   "execution_count": 1,
   "id": "eaabc113",
   "metadata": {},
   "outputs": [],
   "source": [
    "from matplotlib import pyplot as plt\n",
    "import pandas as pd\n",
    "import numpy as np\n",
    "from sklearn.cluster import KMeans"
   ]
  },
  {
   "cell_type": "code",
   "execution_count": 2,
   "id": "31dbb726",
   "metadata": {},
   "outputs": [],
   "source": [
    "df_raw = pd.read_csv('2017_WADI/WADI_attackdataLABLE.csv', header = 1)"
   ]
  },
  {
   "cell_type": "code",
   "execution_count": 3,
   "id": "c5431792",
   "metadata": {},
   "outputs": [
    {
     "name": "stderr",
     "output_type": "stream",
     "text": [
      "/var/folders/df/rwntvt1n6yj8034kn75rxjqw0000gn/T/ipykernel_81227/1580323211.py:4: SettingWithCopyWarning: \n",
      "A value is trying to be set on a copy of a slice from a DataFrame.\n",
      "Try using .loc[row_indexer,col_indexer] = value instead\n",
      "\n",
      "See the caveats in the documentation: https://pandas.pydata.org/pandas-docs/stable/user_guide/indexing.html#returning-a-view-versus-a-copy\n",
      "  df['TimeStamp'] = timestamp\n"
     ]
    }
   ],
   "source": [
    "import datetime\n",
    "timestamp = pd.date_range(\"10/09/17 18:00:00\", periods = 172801, freq = \"s\")\n",
    "df = df_raw[:-2]\n",
    "df['TimeStamp'] = timestamp\n",
    "first_col = df.pop('TimeStamp')\n",
    "df.insert(0, 'TimeStamp', first_col)\n",
    "df = df.dropna(axis = 1)\n",
    "df_clean = df.drop(['Row ', 'TimeStamp', 'Date ', 'Time', 'Attack LABLE (1:No Attack, -1:Attack)'], axis = 1)\n",
    "\n",
    "def remove_1(df):\n",
    "    for col in df.columns:\n",
    "        if len(df[col].unique()) == 1:\n",
    "            df.drop(col, inplace=True, axis =1)\n",
    "    return df\n",
    "\n",
    "df_clean = remove_1(df_clean)"
   ]
  },
  {
   "cell_type": "code",
   "execution_count": 4,
   "id": "f457f871",
   "metadata": {},
   "outputs": [
    {
     "data": {
      "text/plain": [
       "(172801, 96)"
      ]
     },
     "execution_count": 4,
     "metadata": {},
     "output_type": "execute_result"
    }
   ],
   "source": [
    "df_clean.shape"
   ]
  },
  {
   "cell_type": "code",
   "execution_count": 5,
   "id": "5531ff4b",
   "metadata": {},
   "outputs": [],
   "source": [
    "from sklearn.preprocessing import MinMaxScaler\n",
    "scaler = MinMaxScaler()\n",
    "df_scaled = pd.DataFrame(scaler.fit_transform(df_clean))\n",
    "df_scaled.columns = df_clean.columns"
   ]
  },
  {
   "cell_type": "code",
   "execution_count": 6,
   "id": "71801000",
   "metadata": {},
   "outputs": [
    {
     "data": {
      "text/html": [
       "<div>\n",
       "<style scoped>\n",
       "    .dataframe tbody tr th:only-of-type {\n",
       "        vertical-align: middle;\n",
       "    }\n",
       "\n",
       "    .dataframe tbody tr th {\n",
       "        vertical-align: top;\n",
       "    }\n",
       "\n",
       "    .dataframe thead th {\n",
       "        text-align: right;\n",
       "    }\n",
       "</style>\n",
       "<table border=\"1\" class=\"dataframe\">\n",
       "  <thead>\n",
       "    <tr style=\"text-align: right;\">\n",
       "      <th></th>\n",
       "      <th>1_AIT_001_PV</th>\n",
       "      <th>1_AIT_002_PV</th>\n",
       "      <th>1_AIT_003_PV</th>\n",
       "      <th>1_AIT_004_PV</th>\n",
       "      <th>1_AIT_005_PV</th>\n",
       "      <th>1_FIT_001_PV</th>\n",
       "      <th>1_LT_001_PV</th>\n",
       "      <th>1_MV_001_STATUS</th>\n",
       "      <th>1_MV_002_STATUS</th>\n",
       "      <th>1_MV_003_STATUS</th>\n",
       "      <th>...</th>\n",
       "      <th>2B_AIT_002_PV</th>\n",
       "      <th>2B_AIT_003_PV</th>\n",
       "      <th>2B_AIT_004_PV</th>\n",
       "      <th>3_AIT_003_PV</th>\n",
       "      <th>3_AIT_004_PV</th>\n",
       "      <th>3_AIT_005_PV</th>\n",
       "      <th>3_FIT_001_PV</th>\n",
       "      <th>3_LT_001_PV</th>\n",
       "      <th>LEAK_DIFF_PRESSURE</th>\n",
       "      <th>TOTAL_CONS_REQUIRED_FLOW</th>\n",
       "    </tr>\n",
       "  </thead>\n",
       "  <tbody>\n",
       "    <tr>\n",
       "      <th>0</th>\n",
       "      <td>0.258805</td>\n",
       "      <td>0.088248</td>\n",
       "      <td>0.990702</td>\n",
       "      <td>0.995069</td>\n",
       "      <td>0.865286</td>\n",
       "      <td>0.000268</td>\n",
       "      <td>0.300407</td>\n",
       "      <td>0.5</td>\n",
       "      <td>0.5</td>\n",
       "      <td>0.5</td>\n",
       "      <td>...</td>\n",
       "      <td>0.000038</td>\n",
       "      <td>0.781739</td>\n",
       "      <td>0.398462</td>\n",
       "      <td>0.295319</td>\n",
       "      <td>0.380856</td>\n",
       "      <td>0.755538</td>\n",
       "      <td>0.577042</td>\n",
       "      <td>0.067104</td>\n",
       "      <td>0.07117</td>\n",
       "      <td>0.167382</td>\n",
       "    </tr>\n",
       "    <tr>\n",
       "      <th>1</th>\n",
       "      <td>0.258805</td>\n",
       "      <td>0.088248</td>\n",
       "      <td>0.990702</td>\n",
       "      <td>0.995069</td>\n",
       "      <td>0.865286</td>\n",
       "      <td>0.000268</td>\n",
       "      <td>0.300407</td>\n",
       "      <td>0.5</td>\n",
       "      <td>0.5</td>\n",
       "      <td>0.5</td>\n",
       "      <td>...</td>\n",
       "      <td>0.000038</td>\n",
       "      <td>0.781739</td>\n",
       "      <td>0.398462</td>\n",
       "      <td>0.295319</td>\n",
       "      <td>0.380856</td>\n",
       "      <td>0.755538</td>\n",
       "      <td>0.577042</td>\n",
       "      <td>0.067104</td>\n",
       "      <td>0.07117</td>\n",
       "      <td>0.167382</td>\n",
       "    </tr>\n",
       "    <tr>\n",
       "      <th>2</th>\n",
       "      <td>0.258805</td>\n",
       "      <td>0.088248</td>\n",
       "      <td>0.990702</td>\n",
       "      <td>0.995069</td>\n",
       "      <td>0.865286</td>\n",
       "      <td>0.000268</td>\n",
       "      <td>0.300407</td>\n",
       "      <td>0.5</td>\n",
       "      <td>0.5</td>\n",
       "      <td>0.5</td>\n",
       "      <td>...</td>\n",
       "      <td>0.000038</td>\n",
       "      <td>0.781739</td>\n",
       "      <td>0.398462</td>\n",
       "      <td>0.295319</td>\n",
       "      <td>0.380856</td>\n",
       "      <td>0.755538</td>\n",
       "      <td>0.577042</td>\n",
       "      <td>0.067104</td>\n",
       "      <td>0.07117</td>\n",
       "      <td>0.167382</td>\n",
       "    </tr>\n",
       "    <tr>\n",
       "      <th>3</th>\n",
       "      <td>0.258805</td>\n",
       "      <td>0.088248</td>\n",
       "      <td>0.990702</td>\n",
       "      <td>0.995069</td>\n",
       "      <td>0.865286</td>\n",
       "      <td>0.000268</td>\n",
       "      <td>0.300407</td>\n",
       "      <td>0.5</td>\n",
       "      <td>0.5</td>\n",
       "      <td>0.5</td>\n",
       "      <td>...</td>\n",
       "      <td>0.000046</td>\n",
       "      <td>0.941424</td>\n",
       "      <td>0.394514</td>\n",
       "      <td>0.295319</td>\n",
       "      <td>0.380856</td>\n",
       "      <td>0.755538</td>\n",
       "      <td>0.577042</td>\n",
       "      <td>0.067104</td>\n",
       "      <td>0.07117</td>\n",
       "      <td>0.167382</td>\n",
       "    </tr>\n",
       "    <tr>\n",
       "      <th>4</th>\n",
       "      <td>0.258805</td>\n",
       "      <td>0.088248</td>\n",
       "      <td>0.990702</td>\n",
       "      <td>0.995069</td>\n",
       "      <td>0.865286</td>\n",
       "      <td>0.000268</td>\n",
       "      <td>0.300407</td>\n",
       "      <td>0.5</td>\n",
       "      <td>0.5</td>\n",
       "      <td>0.5</td>\n",
       "      <td>...</td>\n",
       "      <td>0.000046</td>\n",
       "      <td>0.941424</td>\n",
       "      <td>0.394514</td>\n",
       "      <td>0.295319</td>\n",
       "      <td>0.380856</td>\n",
       "      <td>0.755538</td>\n",
       "      <td>0.577042</td>\n",
       "      <td>0.067104</td>\n",
       "      <td>0.07117</td>\n",
       "      <td>0.167382</td>\n",
       "    </tr>\n",
       "  </tbody>\n",
       "</table>\n",
       "<p>5 rows × 96 columns</p>\n",
       "</div>"
      ],
      "text/plain": [
       "   1_AIT_001_PV  1_AIT_002_PV  1_AIT_003_PV  1_AIT_004_PV  1_AIT_005_PV  \\\n",
       "0      0.258805      0.088248      0.990702      0.995069      0.865286   \n",
       "1      0.258805      0.088248      0.990702      0.995069      0.865286   \n",
       "2      0.258805      0.088248      0.990702      0.995069      0.865286   \n",
       "3      0.258805      0.088248      0.990702      0.995069      0.865286   \n",
       "4      0.258805      0.088248      0.990702      0.995069      0.865286   \n",
       "\n",
       "   1_FIT_001_PV  1_LT_001_PV  1_MV_001_STATUS  1_MV_002_STATUS  \\\n",
       "0      0.000268     0.300407              0.5              0.5   \n",
       "1      0.000268     0.300407              0.5              0.5   \n",
       "2      0.000268     0.300407              0.5              0.5   \n",
       "3      0.000268     0.300407              0.5              0.5   \n",
       "4      0.000268     0.300407              0.5              0.5   \n",
       "\n",
       "   1_MV_003_STATUS  ...  2B_AIT_002_PV  2B_AIT_003_PV  2B_AIT_004_PV  \\\n",
       "0              0.5  ...       0.000038       0.781739       0.398462   \n",
       "1              0.5  ...       0.000038       0.781739       0.398462   \n",
       "2              0.5  ...       0.000038       0.781739       0.398462   \n",
       "3              0.5  ...       0.000046       0.941424       0.394514   \n",
       "4              0.5  ...       0.000046       0.941424       0.394514   \n",
       "\n",
       "   3_AIT_003_PV  3_AIT_004_PV  3_AIT_005_PV  3_FIT_001_PV  3_LT_001_PV  \\\n",
       "0      0.295319      0.380856      0.755538      0.577042     0.067104   \n",
       "1      0.295319      0.380856      0.755538      0.577042     0.067104   \n",
       "2      0.295319      0.380856      0.755538      0.577042     0.067104   \n",
       "3      0.295319      0.380856      0.755538      0.577042     0.067104   \n",
       "4      0.295319      0.380856      0.755538      0.577042     0.067104   \n",
       "\n",
       "   LEAK_DIFF_PRESSURE  TOTAL_CONS_REQUIRED_FLOW  \n",
       "0             0.07117                  0.167382  \n",
       "1             0.07117                  0.167382  \n",
       "2             0.07117                  0.167382  \n",
       "3             0.07117                  0.167382  \n",
       "4             0.07117                  0.167382  \n",
       "\n",
       "[5 rows x 96 columns]"
      ]
     },
     "execution_count": 6,
     "metadata": {},
     "output_type": "execute_result"
    }
   ],
   "source": [
    "df_scaled.head()"
   ]
  },
  {
   "cell_type": "code",
   "execution_count": 7,
   "id": "9dea0bbc",
   "metadata": {},
   "outputs": [
    {
     "data": {
      "text/plain": [
       "'kmeans = KMeans(n_clusters = 3, random_state = 22)\\nkmeans = kmeans.fit(df_scaled)'"
      ]
     },
     "execution_count": 7,
     "metadata": {},
     "output_type": "execute_result"
    }
   ],
   "source": [
    "'''kmeans = KMeans(n_clusters = 3, random_state = 22)\n",
    "kmeans = kmeans.fit(df_scaled)'''"
   ]
  },
  {
   "cell_type": "code",
   "execution_count": 8,
   "id": "00aa6f6a",
   "metadata": {},
   "outputs": [
    {
     "data": {
      "text/plain": [
       "'centroid_1 = kmeans.cluster_centers_[0,:]\\ncentroid_2 = kmeans.cluster_centers_[1,:]\\ncentroid_3 = kmeans.cluster_centers_[2,:]'"
      ]
     },
     "execution_count": 8,
     "metadata": {},
     "output_type": "execute_result"
    }
   ],
   "source": [
    "'''centroid_1 = kmeans.cluster_centers_[0,:]\n",
    "centroid_2 = kmeans.cluster_centers_[1,:]\n",
    "centroid_3 = kmeans.cluster_centers_[2,:]'''"
   ]
  },
  {
   "cell_type": "code",
   "execution_count": 9,
   "id": "54b36031",
   "metadata": {},
   "outputs": [
    {
     "data": {
      "text/plain": [
       "'dist_1 = np.linalg.norm(centroid_1)\\ndist_2 = np.linalg.norm(centroid_2)\\ndist_3 = np.linalg.norm(centroid_3)'"
      ]
     },
     "execution_count": 9,
     "metadata": {},
     "output_type": "execute_result"
    }
   ],
   "source": [
    "'''dist_1 = np.linalg.norm(centroid_1)\n",
    "dist_2 = np.linalg.norm(centroid_2)\n",
    "dist_3 = np.linalg.norm(centroid_3)'''"
   ]
  },
  {
   "cell_type": "code",
   "execution_count": 10,
   "id": "b5c16ce7",
   "metadata": {},
   "outputs": [
    {
     "data": {
      "text/plain": [
       "\"df_scaled['eucldist'] = np.apply_along_axis(np.linalg.norm, 1, df_scaled)\\ndf_scaled['dist_1'] = dist_1\\ndf_scaled['dist_2'] = dist_2\\ndf_scaled['dist_3'] = dist_3\""
      ]
     },
     "execution_count": 10,
     "metadata": {},
     "output_type": "execute_result"
    }
   ],
   "source": [
    "'''df_scaled['eucldist'] = np.apply_along_axis(np.linalg.norm, 1, df_scaled)\n",
    "df_scaled['dist_1'] = dist_1\n",
    "df_scaled['dist_2'] = dist_2\n",
    "df_scaled['dist_3'] = dist_3'''"
   ]
  },
  {
   "cell_type": "code",
   "execution_count": 11,
   "id": "f91dab4b",
   "metadata": {},
   "outputs": [
    {
     "data": {
      "text/plain": [
       "\"df_scaled['delta_1'] = abs(df_scaled['eucldist'] - df_scaled['dist_1'])\\ndf_scaled['delta_2'] = abs(df_scaled['eucldist'] - df_scaled['dist_2'])\\ndf_scaled['delta_3'] = abs(df_scaled['eucldist'] - df_scaled['dist_3'])\""
      ]
     },
     "execution_count": 11,
     "metadata": {},
     "output_type": "execute_result"
    }
   ],
   "source": [
    "'''df_scaled['delta_1'] = abs(df_scaled['eucldist'] - df_scaled['dist_1'])\n",
    "df_scaled['delta_2'] = abs(df_scaled['eucldist'] - df_scaled['dist_2'])\n",
    "df_scaled['delta_3'] = abs(df_scaled['eucldist'] - df_scaled['dist_3'])'''"
   ]
  },
  {
   "cell_type": "code",
   "execution_count": 12,
   "id": "51832273",
   "metadata": {},
   "outputs": [
    {
     "data": {
      "text/plain": [
       "\"df_scaled['delta_1'].hist()\""
      ]
     },
     "execution_count": 12,
     "metadata": {},
     "output_type": "execute_result"
    }
   ],
   "source": [
    "'''df_scaled['delta_1'].hist()'''"
   ]
  },
  {
   "cell_type": "code",
   "execution_count": 13,
   "id": "92f34887",
   "metadata": {},
   "outputs": [],
   "source": [
    "# df_scaled['delta_2'].hist()"
   ]
  },
  {
   "cell_type": "code",
   "execution_count": 14,
   "id": "547eac70",
   "metadata": {},
   "outputs": [],
   "source": [
    "# df_scaled['delta_3'].hist()"
   ]
  },
  {
   "cell_type": "code",
   "execution_count": 15,
   "id": "e17814ad",
   "metadata": {},
   "outputs": [],
   "source": [
    "df_P1 = df_scaled[['1_AIT_001_PV', '1_AIT_002_PV', '1_AIT_003_PV', '1_AIT_004_PV',\n",
    "       '1_AIT_005_PV', '1_FIT_001_PV', '1_LT_001_PV', '1_MV_001_STATUS',\n",
    "       '1_MV_002_STATUS', '1_MV_003_STATUS', '1_MV_004_STATUS',\n",
    "       '1_P_001_STATUS', '1_P_003_STATUS', '1_P_005_STATUS', '1_P_006_STATUS']]"
   ]
  },
  {
   "cell_type": "code",
   "execution_count": 16,
   "id": "195a0d64",
   "metadata": {},
   "outputs": [],
   "source": [
    "# P1_Dose consists of 5 sensors = conductivity, turbidity, pH, voltage, concentration; \n",
    "# raw tank level meter; two valves; \n",
    "# flow rate\n",
    "\n",
    "df_P1_Dose = df_scaled[['1_AIT_001_PV', '1_AIT_002_PV', '1_AIT_003_PV', '1_AIT_004_PV',\n",
    "            '1_AIT_005_PV','1_LT_001_PV', '1_MV_001_STATUS', '1_MV_004_STATUS', '1_FIT_001_PV']]"
   ]
  },
  {
   "cell_type": "code",
   "execution_count": 17,
   "id": "4233ce9f",
   "metadata": {},
   "outputs": [],
   "source": [
    "kmeans_P1_Dose = KMeans(n_clusters =2, random_state = 22).fit_predict(df_P1_Dose)"
   ]
  },
  {
   "cell_type": "code",
   "execution_count": 18,
   "id": "6579b594",
   "metadata": {},
   "outputs": [],
   "source": [
    "# Mask attacks associated with P2\n",
    "mask1 = (df['TimeStamp'] > '2017-10-10 13:39:30') & (df['TimeStamp'] < '2017-10-10 13:50:40')\n",
    "mask2 = (df['TimeStamp'] > '2017-10-10 17:40:00') & (df['TimeStamp'] < '2017-10-10 17:49:40')\n",
    "mask3 = (df['TimeStamp'] > '2017-10-11 11:36:31') & (df['TimeStamp'] < '2017-10-11 11:47:00')\n",
    "mask4 = (df['TimeStamp'] > '2017-10-11 11:59:00') & (df['TimeStamp'] < '2017-10-11 12:05:00')\n",
    "mask5 = (df['TimeStamp'] > '2017-10-11 12:07:30') & (df['TimeStamp'] < '2017-10-11 12:10:52')\n",
    "mask6 = (df['TimeStamp'] > '2017-10-10 11:30:40') & (df['TimeStamp'] < '2017-10-10 11:44:50')"
   ]
  },
  {
   "cell_type": "code",
   "execution_count": 19,
   "id": "1ffa9c3a",
   "metadata": {},
   "outputs": [],
   "source": [
    "# Create new attack column which will be used to only have P1 attacks\n",
    "df['P1_Attack'] = df['Attack LABLE (1:No Attack, -1:Attack)'] # Copy all attacks\n",
    "\n",
    "# Ensure attacks associated with P2 are masked since we only want to have P1 attacks in P1_Attack\n",
    "df.loc[mask1,'P1_Attack'] = 1\n",
    "df.loc[mask2,'P1_Attack'] = 1\n",
    "df.loc[mask3,'P1_Attack'] = 1\n",
    "df.loc[mask4,'P1_Attack'] = 1\n",
    "df.loc[mask5,'P1_Attack'] = 1\n",
    "df.loc[mask6,'P1_Attack'] = 1"
   ]
  },
  {
   "cell_type": "code",
   "execution_count": 20,
   "id": "b43e1727",
   "metadata": {},
   "outputs": [],
   "source": [
    "# Create 2 columns that will compare P1 attacks vs P1 predicted attacks\n",
    "P1_P1Pred = pd.DataFrame()\n",
    "P1_P1Pred['Pred'] = kmeans_P1_Dose\n",
    "P1_P1Pred['P1_Attack'] = df['P1_Attack']"
   ]
  },
  {
   "cell_type": "code",
   "execution_count": 21,
   "id": "19b8774c",
   "metadata": {},
   "outputs": [],
   "source": [
    "# Align kmeans_P1_Dose categories with P1_Attack, i.e. 1= no attack, -1 = attack\n",
    "P1_P1Pred['Pred'] = P1_P1Pred['Pred'].replace(1,-1)\n",
    "P1_P1Pred['Pred'] = P1_P1Pred['Pred'].replace(0,1)"
   ]
  },
  {
   "cell_type": "code",
   "execution_count": 22,
   "id": "73c08ff7",
   "metadata": {},
   "outputs": [
    {
     "name": "stdout",
     "output_type": "stream",
     "text": [
      "Predicted     -1       1\n",
      "Actual                  \n",
      "-1          5288    1613\n",
      " 1         43219  122681\n"
     ]
    }
   ],
   "source": [
    "confusion_matrix_P1 = pd.crosstab(P1_P1Pred['P1_Attack'], P1_P1Pred['Pred'], rownames = ['Actual'], colnames = ['Predicted'])\n",
    "print(confusion_matrix_P1)\n",
    "\n",
    "# 74% overall accuracy, 77% true positive"
   ]
  },
  {
   "cell_type": "code",
   "execution_count": 23,
   "id": "d1c9d6be",
   "metadata": {},
   "outputs": [
    {
     "data": {
      "text/plain": [
       "0         0.000268\n",
       "1         0.000268\n",
       "2         0.000268\n",
       "3         0.000268\n",
       "4         0.000268\n",
       "            ...   \n",
       "172796    0.000247\n",
       "172797    0.000247\n",
       "172798    0.000263\n",
       "172799    0.000263\n",
       "172800    0.000263\n",
       "Name: 1_FIT_001_PV, Length: 172801, dtype: float64"
      ]
     },
     "execution_count": 23,
     "metadata": {},
     "output_type": "execute_result"
    }
   ],
   "source": [
    "# use the same variables as P1_Dose but transform certain columns into difference (n+1 - n)\n",
    "# change flow rate and tank level meter to diff\n",
    "# remove original flow rate and tank level variables\n",
    "\n",
    "df_P1_Dose_diff = df_P1_Dose.copy()\n",
    "df_P1_Dose_diff['1_FIT_001_PV_diff'] = df_P1_Dose['1_FIT_001_PV'].diff()\n",
    "df_P1_Dose_diff['1_LT_001_PV_diff'] = df_P1_Dose['1_LT_001_PV'].diff()\n",
    "df_P1_Dose_diff.pop('1_LT_001_PV')\n",
    "df_P1_Dose_diff.pop('1_FIT_001_PV')"
   ]
  },
  {
   "cell_type": "code",
   "execution_count": 24,
   "id": "6550be5a",
   "metadata": {},
   "outputs": [
    {
     "name": "stdout",
     "output_type": "stream",
     "text": [
      "Predicted     -1       1\n",
      "Actual                  \n",
      "-1          4884    2017\n",
      " 1         43086  122813\n"
     ]
    }
   ],
   "source": [
    "# k means only diff data frame, but first remove NaN\n",
    "df_P1_Dose_diff = df_P1_Dose_diff.dropna(axis=0)\n",
    "kmeans_P1_Dose_diff = KMeans(n_clusters =2, random_state = 22).fit_predict(df_P1_Dose_diff)\n",
    "\n",
    "# Create 2 columns that will compare P1 attacks vs P1 predicted attacks\n",
    "P1_P1Pred_diff = pd.DataFrame()\n",
    "P1_P1Pred_diff['Pred'] = kmeans_P1_Dose_diff\n",
    "P1_P1Pred_diff['P1_Attack'] = df['P1_Attack']\n",
    "\n",
    "# Align kmeans_P1_Dose_diff categories with P1_Attack, i.e. 1= no attack, -1 = attack\n",
    "P1_P1Pred_diff['Pred'] = P1_P1Pred_diff['Pred'].replace(1,-1)\n",
    "P1_P1Pred_diff['Pred'] = P1_P1Pred_diff['Pred'].replace(0,1)\n",
    "\n",
    "confusion_matrix_P1_diff = pd.crosstab(P1_P1Pred_diff['P1_Attack'], P1_P1Pred_diff['Pred'], rownames = ['Actual'], colnames = ['Predicted'])\n",
    "print(confusion_matrix_P1_diff)\n",
    "\n",
    "# 74% overall accuracy, 71% true positive.. not as good"
   ]
  },
  {
   "cell_type": "code",
   "execution_count": 25,
   "id": "183cae88",
   "metadata": {},
   "outputs": [
    {
     "name": "stdout",
     "output_type": "stream",
     "text": [
      "Predicted     -1       1\n",
      "Actual                  \n",
      "-1          5481    1420\n",
      " 1         43065  122835\n"
     ]
    }
   ],
   "source": [
    "# Try kmeans again but with only variables called out in Table, 1_MV, 1_FIT, 1_AIT\n",
    "\n",
    "df_P1_Dose_Reduced = df_P1_Dose[['1_MV_001_STATUS',\n",
    "       '1_FIT_001_PV', '1_LT_001_PV']]\n",
    "\n",
    "# k means \n",
    "kmeans_P1_Dose_Red = KMeans(n_clusters =2, random_state = 22).fit_predict(df_P1_Dose_Reduced)\n",
    "\n",
    "# Create 2 columns that will compare P1 attacks vs P1 predicted attacks\n",
    "P1_P1Pred_Red = pd.DataFrame()\n",
    "P1_P1Pred_Red['Pred'] = kmeans_P1_Dose_Red\n",
    "P1_P1Pred_Red['P1_Attack'] = df['P1_Attack']\n",
    "\n",
    "# Align kmeans_P1_Dose_diff categories with P1_Attack, i.e. 1= no attack, -1 = attack\n",
    "P1_P1Pred_Red['Pred'] = P1_P1Pred_Red['Pred'].replace(1,-1)\n",
    "P1_P1Pred_Red['Pred'] = P1_P1Pred_Red['Pred'].replace(0,1)\n",
    "\n",
    "confusion_matrix_P1_Red = pd.crosstab(P1_P1Pred_Red['P1_Attack'], P1_P1Pred_Red['Pred'], rownames = ['Actual'], colnames = ['Predicted'])\n",
    "print(confusion_matrix_P1_Red)\n",
    "\n",
    "# 74% overall accuracy, 79% true positive"
   ]
  },
  {
   "cell_type": "code",
   "execution_count": 26,
   "id": "3dafca2a",
   "metadata": {},
   "outputs": [
    {
     "name": "stdout",
     "output_type": "stream",
     "text": [
      "Predicted      -1      1\n",
      "Actual                  \n",
      "-1           4549   2352\n",
      " 1         129783  36117\n"
     ]
    }
   ],
   "source": [
    "# Since the above attack is to turn on water supply when not called for affecting 1-LT-001 tank meter, \n",
    "# 1-P-005 and 1-P-006 should also be turned out to take out any water to avoid overflow.\n",
    "# To above try again but add the transfer pumps 1-P-005 and 1-P-006\n",
    "\n",
    "df_P1_Dose_Reduced_2 = df_P1[['1_MV_001_STATUS',\n",
    "       '1_FIT_001_PV', '1_LT_001_PV', '1_P_005_STATUS','1_P_006_STATUS']]\n",
    "\n",
    "# k means \n",
    "kmeans_P1_Dose_Red_2 = KMeans(n_clusters =2, random_state = 22).fit_predict(df_P1_Dose_Reduced_2)\n",
    "\n",
    "# Create 2 columns that will compare P1 attacks vs P1 predicted attacks\n",
    "P1_P1Pred_Red_2 = pd.DataFrame()\n",
    "P1_P1Pred_Red_2['Pred'] = kmeans_P1_Dose_Red_2\n",
    "P1_P1Pred_Red_2['P1_Attack'] = df['P1_Attack']\n",
    "\n",
    "# Align kmeans_P1_Dose_diff categories with P1_Attack, i.e. 1= no attack, -1 = attack\n",
    "P1_P1Pred_Red_2['Pred'] = P1_P1Pred_Red_2['Pred'].replace(1,-1)\n",
    "P1_P1Pred_Red_2['Pred'] = P1_P1Pred_Red_2['Pred'].replace(0,1)\n",
    "\n",
    "confusion_matrix_P1_Red_2 = pd.crosstab(P1_P1Pred_Red_2['P1_Attack'], P1_P1Pred_Red_2['Pred'], rownames = ['Actual'], colnames = ['Predicted'])\n",
    "print(confusion_matrix_P1_Red_2)\n",
    "\n",
    "# decline in performance when adding transfer pumps"
   ]
  },
  {
   "cell_type": "code",
   "execution_count": 27,
   "id": "d770f0ea",
   "metadata": {},
   "outputs": [
    {
     "name": "stdout",
     "output_type": "stream",
     "text": [
      "Predicted     -1       1\n",
      "Actual                  \n",
      "-1          5059    1842\n",
      " 1         43290  122610\n"
     ]
    }
   ],
   "source": [
    "# There appears to be no improvement with adding raw pump status.  Try adding chemical dosing pumps\n",
    "# which should turn on if more water comes in 1-P-001 and 1-P-003.  1-P-002 and 1-P-004 not included as they onlyu\n",
    "# have one value (1)\n",
    "\n",
    "df_P1_Dose_Reduced_3 = df_P1[['1_MV_001_STATUS',\n",
    "       '1_FIT_001_PV', '1_LT_001_PV', '1_P_001_STATUS','1_P_003_STATUS']]\n",
    "\n",
    "# k means \n",
    "kmeans_P1_Dose_Red_3 = KMeans(n_clusters =2, random_state = 22).fit_predict(df_P1_Dose_Reduced_3)\n",
    "\n",
    "# Create 2 columns that will compare P1 attacks vs P1 predicted attacks\n",
    "P1_P1Pred_Red_3 = pd.DataFrame()\n",
    "P1_P1Pred_Red_3['Pred'] = kmeans_P1_Dose_Red_3\n",
    "P1_P1Pred_Red_3['P1_Attack'] = df['P1_Attack']\n",
    "\n",
    "# Align kmeans_P1_Dose_diff categories with P1_Attack, i.e. 1= no attack, -1 = attack\n",
    "P1_P1Pred_Red_3['Pred'] = P1_P1Pred_Red_3['Pred'].replace(1,-1)\n",
    "P1_P1Pred_Red_3['Pred'] = P1_P1Pred_Red_3['Pred'].replace(0,1)\n",
    "\n",
    "confusion_matrix_P1_Red_3 = pd.crosstab(P1_P1Pred_Red_3['P1_Attack'], P1_P1Pred_Red_3['Pred'], rownames = ['Actual'], colnames = ['Predicted'])\n",
    "print(confusion_matrix_P1_Red_3)\n",
    "\n",
    "# 74/73 accuracy/TP\n"
   ]
  },
  {
   "cell_type": "code",
   "execution_count": 41,
   "id": "1d5a0cb7",
   "metadata": {},
   "outputs": [
    {
     "name": "stdout",
     "output_type": "stream",
     "text": [
      "Predicted     -1       1\n",
      "Actual                  \n",
      "-1          5059    1842\n",
      " 1         43290  122610\n"
     ]
    }
   ],
   "source": [
    "# New kmeans for attack ID 2\n",
    "# The dosing pumps are turned on but the level in the tank remains the same.  This is due to the flow indicator\n",
    "# transmission to turn off.  Therefore variables are P1 and P3, 1_FIT and 1_LT\n",
    "\n",
    "df_Chem = df_scaled[['1_P_001_STATUS', '1_P_003_STATUS', '1_LT_001_PV', '1_FIT_001_PV']]\n",
    "\n",
    "# k means \n",
    "kmeans_Chem = KMeans(n_clusters =2, random_state = 22).fit_predict(df_Chem)\n",
    "\n",
    "# Create 2 columns that will compare P1 attacks vs P1 predicted attacks\n",
    "P1_Chem = pd.DataFrame()\n",
    "P1_Chem['Pred'] = kmeans_Chem\n",
    "P1_Chem['P1_Attack'] = df['P1_Attack']\n",
    "\n",
    "# Align kmeans_P1_Dose_diff categories with P1_Attack, i.e. 1= no attack, -1 = attack\n",
    "P1_Chem['Pred'] = P1_Chem['Pred'].replace(1,-1)\n",
    "P1_Chem['Pred'] = P1_Chem['Pred'].replace(0,1)\n",
    "\n",
    "confusion_matrix_P1_Chem = pd.crosstab(P1_Chem['P1_Attack'], P1_Chem['Pred'], rownames = ['Actual'], colnames = ['Predicted'])\n",
    "print(confusion_matrix_P1_Chem)\n"
   ]
  },
  {
   "cell_type": "code",
   "execution_count": 29,
   "id": "afe00806",
   "metadata": {
    "scrolled": true
   },
   "outputs": [
    {
     "data": {
      "text/plain": [
       "Index(['1_AIT_001_PV', '1_AIT_002_PV', '1_AIT_003_PV', '1_AIT_004_PV',\n",
       "       '1_AIT_005_PV', '1_FIT_001_PV', '1_LT_001_PV', '1_MV_001_STATUS',\n",
       "       '1_MV_002_STATUS', '1_MV_003_STATUS', '1_MV_004_STATUS',\n",
       "       '1_P_001_STATUS', '1_P_003_STATUS', '1_P_005_STATUS', '1_P_006_STATUS',\n",
       "       '2_DPIT_001_PV', '2_FIC_101_CO', '2_FIC_101_PV', '2_FIC_101_SP',\n",
       "       '2_FIC_201_CO', '2_FIC_201_PV', '2_FIC_201_SP', '2_FIC_301_CO',\n",
       "       '2_FIC_301_PV', '2_FIC_301_SP', '2_FIC_401_CO', '2_FIC_401_PV',\n",
       "       '2_FIC_401_SP', '2_FIC_501_CO', '2_FIC_501_PV', '2_FIC_501_SP',\n",
       "       '2_FIC_601_CO', '2_FIC_601_PV', '2_FIC_601_SP', '2_FIT_001_PV',\n",
       "       '2_FIT_002_PV', '2_FIT_003_PV', '2_FQ_101_PV', '2_FQ_201_PV',\n",
       "       '2_FQ_301_PV', '2_FQ_401_PV', '2_FQ_501_PV', '2_FQ_601_PV',\n",
       "       '2_LS_101_AH', '2_LS_101_AL', '2_LS_201_AH', '2_LS_201_AL',\n",
       "       '2_LS_301_AH', '2_LS_301_AL', '2_LS_401_AH', '2_LS_401_AL',\n",
       "       '2_LS_501_AH', '2_LS_501_AL', '2_LS_601_AH', '2_LS_601_AL',\n",
       "       '2_LT_001_PV', '2_LT_002_PV', '2_MCV_007_CO', '2_MCV_101_CO',\n",
       "       '2_MCV_201_CO', '2_MCV_301_CO', '2_MCV_401_CO', '2_MCV_501_CO',\n",
       "       '2_MCV_601_CO', '2_MV_003_STATUS', '2_MV_006_STATUS', '2_MV_101_STATUS',\n",
       "       '2_MV_201_STATUS', '2_MV_301_STATUS', '2_MV_401_STATUS',\n",
       "       '2_MV_501_STATUS', '2_MV_601_STATUS', '2_P_003_SPEED', '2_P_003_STATUS',\n",
       "       '2_P_004_SPEED', '2_PIC_003_CO', '2_PIC_003_PV', '2_PIC_003_SP',\n",
       "       '2_PIT_001_PV', '2_PIT_002_PV', '2_PIT_003_PV', '2A_AIT_001_PV',\n",
       "       '2A_AIT_002_PV', '2A_AIT_003_PV', '2A_AIT_004_PV', '2B_AIT_001_PV',\n",
       "       '2B_AIT_002_PV', '2B_AIT_003_PV', '2B_AIT_004_PV', '3_AIT_003_PV',\n",
       "       '3_AIT_004_PV', '3_AIT_005_PV', '3_FIT_001_PV', '3_LT_001_PV',\n",
       "       'LEAK_DIFF_PRESSURE', 'TOTAL_CONS_REQUIRED_FLOW'],\n",
       "      dtype='object')"
      ]
     },
     "execution_count": 29,
     "metadata": {},
     "output_type": "execute_result"
    }
   ],
   "source": [
    "df_scaled.columns"
   ]
  },
  {
   "cell_type": "code",
   "execution_count": null,
   "id": "f5b6865e",
   "metadata": {},
   "outputs": [],
   "source": []
  }
 ],
 "metadata": {
  "kernelspec": {
   "display_name": "SWAT",
   "language": "python",
   "name": "swat"
  },
  "language_info": {
   "codemirror_mode": {
    "name": "ipython",
    "version": 3
   },
   "file_extension": ".py",
   "mimetype": "text/x-python",
   "name": "python",
   "nbconvert_exporter": "python",
   "pygments_lexer": "ipython3",
   "version": "3.10.6"
  }
 },
 "nbformat": 4,
 "nbformat_minor": 5
}
